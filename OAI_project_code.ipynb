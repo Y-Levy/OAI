{
  "nbformat": 4,
  "nbformat_minor": 0,
  "metadata": {
    "colab": {
      "provenance": [],
      "collapsed_sections": [
        "fNT7r8A-wIm4",
        "j1EmcE3vaDsz",
        "f8xj_72DBj8-"
      ]
    },
    "kernelspec": {
      "name": "python3",
      "display_name": "Python 3"
    },
    "language_info": {
      "name": "python"
    }
  },
  "cells": [
    {
      "cell_type": "markdown",
      "source": [
        "<h1>Audio-based Keylogger</h1>\n",
        "\n",
        "<p>Aviad shalom Tzemah</p>\n",
        "<p>Yuval Siman-TovLevy</p>"
      ],
      "metadata": {
        "id": "PVQRVQ-dCVpO"
      }
    },
    {
      "cell_type": "markdown",
      "source": [
        "# Code setup"
      ],
      "metadata": {
        "id": "5wIEnqmqB-Db"
      }
    },
    {
      "cell_type": "markdown",
      "source": [
        "## Installations"
      ],
      "metadata": {
        "id": "BVQRnV7c2Ppc"
      }
    },
    {
      "cell_type": "markdown",
      "source": [
        "Python speech features for training the acustic keylogger"
      ],
      "metadata": {
        "id": "WHbm7orR2myb"
      }
    },
    {
      "cell_type": "code",
      "source": [
        "!pip install python_speech_features"
      ],
      "metadata": {
        "colab": {
          "base_uri": "https://localhost:8080/"
        },
        "id": "QPJ8CQDM2Mtj",
        "outputId": "daedeb43-4316-44ef-bdbf-e19025430fd2"
      },
      "execution_count": null,
      "outputs": [
        {
          "output_type": "stream",
          "name": "stdout",
          "text": [
            "Looking in indexes: https://pypi.org/simple, https://us-python.pkg.dev/colab-wheels/public/simple/\n",
            "Collecting python_speech_features\n",
            "  Downloading python_speech_features-0.6.tar.gz (5.6 kB)\n",
            "Building wheels for collected packages: python-speech-features\n",
            "  Building wheel for python-speech-features (setup.py) ... \u001b[?25l\u001b[?25hdone\n",
            "  Created wheel for python-speech-features: filename=python_speech_features-0.6-py3-none-any.whl size=5888 sha256=3729894d687d9af9cd2b4a23dc7f0a7b5ddeafce4e2e237ccdea42da5d9ccaab\n",
            "  Stored in directory: /root/.cache/pip/wheels/b0/0e/94/28cd6afa3cd5998a63eef99fe31777acd7d758f59cf24839eb\n",
            "Successfully built python-speech-features\n",
            "Installing collected packages: python-speech-features\n",
            "Successfully installed python-speech-features-0.6\n"
          ]
        }
      ]
    },
    {
      "cell_type": "markdown",
      "source": [
        "SymSpell for correcting the predictions"
      ],
      "metadata": {
        "id": "WUpb3kTtir73"
      }
    },
    {
      "cell_type": "code",
      "source": [
        "!python -m pip install -U symspellpy"
      ],
      "metadata": {
        "colab": {
          "base_uri": "https://localhost:8080/"
        },
        "id": "gfiwMV8Dk7h6",
        "outputId": "80186201-2938-472d-c054-13e0325b1014"
      },
      "execution_count": null,
      "outputs": [
        {
          "output_type": "stream",
          "name": "stdout",
          "text": [
            "Looking in indexes: https://pypi.org/simple, https://us-python.pkg.dev/colab-wheels/public/simple/\n",
            "Collecting symspellpy\n",
            "  Downloading symspellpy-6.7.6-py3-none-any.whl (2.6 MB)\n",
            "\u001b[K     |████████████████████████████████| 2.6 MB 5.2 MB/s \n",
            "\u001b[?25hCollecting editdistpy>=0.1.3\n",
            "  Downloading editdistpy-0.1.3-cp37-cp37m-manylinux_2_5_x86_64.manylinux1_x86_64.manylinux_2_17_x86_64.manylinux2014_x86_64.whl (125 kB)\n",
            "\u001b[K     |████████████████████████████████| 125 kB 56.2 MB/s \n",
            "\u001b[?25hInstalling collected packages: editdistpy, symspellpy\n",
            "Successfully installed editdistpy-0.1.3 symspellpy-6.7.6\n"
          ]
        }
      ]
    },
    {
      "cell_type": "markdown",
      "source": [
        "Pre-made dicrionary of english word frequencies of 82,765 words"
      ],
      "metadata": {
        "id": "d3R3uR1sj-tY"
      }
    },
    {
      "cell_type": "code",
      "source": [
        "!curl -LJO https://raw.githubusercontent.com/mammothb/symspellpy/master/symspellpy/frequency_dictionary_en_82_765.txt"
      ],
      "metadata": {
        "colab": {
          "base_uri": "https://localhost:8080/"
        },
        "id": "sYbMSdMHlmXr",
        "outputId": "528b2917-69e9-43c9-9c6f-380f74f85b8e"
      },
      "execution_count": null,
      "outputs": [
        {
          "output_type": "stream",
          "name": "stdout",
          "text": [
            "  % Total    % Received % Xferd  Average Speed   Time    Time     Time  Current\n",
            "                                 Dload  Upload   Total   Spent    Left  Speed\n",
            "100 1301k  100 1301k    0     0  3585k      0 --:--:-- --:--:-- --:--:-- 3575k\n"
          ]
        }
      ]
    },
    {
      "cell_type": "markdown",
      "source": [
        "Pre-made dicrionary of english bi-gram words frequencies of 243,342 bi-grams"
      ],
      "metadata": {
        "id": "zo66l3ZpkIsD"
      }
    },
    {
      "cell_type": "code",
      "source": [
        "!curl -LJO https://raw.githubusercontent.com/mammothb/symspellpy/master/symspellpy/frequency_bigramdictionary_en_243_342.txt"
      ],
      "metadata": {
        "colab": {
          "base_uri": "https://localhost:8080/"
        },
        "id": "QsVnfym1ltsQ",
        "outputId": "58c28dae-68fe-45a6-94a1-0067c4c1e9f2"
      },
      "execution_count": null,
      "outputs": [
        {
          "output_type": "stream",
          "name": "stdout",
          "text": [
            "  % Total    % Received % Xferd  Average Speed   Time    Time     Time  Current\n",
            "                                 Dload  Upload   Total   Spent    Left  Speed\n",
            "100 5016k  100 5016k    0     0   9.7M      0 --:--:-- --:--:-- --:--:--  9.7M\n"
          ]
        }
      ]
    },
    {
      "cell_type": "markdown",
      "source": [
        "## Imports"
      ],
      "metadata": {
        "id": "UJZZaOtr2Wiv"
      }
    },
    {
      "cell_type": "code",
      "execution_count": null,
      "metadata": {
        "id": "hFCOURJbkhFt"
      },
      "outputs": [],
      "source": [
        "# for the train and test data\n",
        "from google.colab import drive\n",
        "drive.mount('/content/gdrive')\n",
        "\n",
        "# various utilities\n",
        "import os\n",
        "import pickle\n",
        "import matplotlib.pyplot as plt\n",
        "\n",
        "# for the reconstruction attack\n",
        "import itertools\n",
        "import re\n",
        "from textblob import TextBlob, Word\n",
        "import numpy as np\n",
        "from collections import Counter\n",
        "from symspellpy import SymSpell, Verbosity\n",
        "import pkg_resources"
      ]
    },
    {
      "cell_type": "markdown",
      "source": [
        "# Experiments and Results"
      ],
      "metadata": {
        "id": "bhUoVBgjbu-7"
      }
    },
    {
      "cell_type": "markdown",
      "source": [
        "### Eval method\n",
        "\n",
        "The following method takes as an arguments: a path to a trained model and path to the test folder and prints a graph of accuracy as the number of guesses of the model (top n guesses)"
      ],
      "metadata": {
        "id": "fNT7r8A-wIm4"
      }
    },
    {
      "cell_type": "code",
      "source": [
        "def eval_model(model_path, test_path):\n",
        "  total_num_of_tests = 0\n",
        "  avg_acc_at_n = {1: 0, 2: 0, 3: 0, 4: 0, 5: 0, 6: 0, 7: 0, 8: 0, 9: 0, 10: 0}\n",
        "  for root, _, files in os.walk(test_path):\n",
        "      for file_wav in files:\n",
        "          if file_wav.endswith(\".wav\"):  # looking for wavs\n",
        "            for file_txt in files:\n",
        "                if file_txt.endswith(f\"{file_wav.split('.')[0]}.txt\"):  # looking for its ground truth\n",
        "                    total_num_of_tests += 1\n",
        "                    # predicting\n",
        "                    os.system(f\"python '/content/gdrive/MyDrive/Audio-based-Keylogger-project/Implementations/Skype-Type-python3/main.py' --opmode 'from_file' --target {os.path.join(root, file_wav)} --pipeline {model_path}\")\n",
        "                    with open('./current_output.pkl', 'rb') as f:\n",
        "                      predictions = pickle.load(f)  # getting the predictions\n",
        "\n",
        "                    with open(os.path.join(root, file_txt), \"r\") as f:\n",
        "                      ground_truth = [line.strip() for line in f]\n",
        "\n",
        "                    # calculating the average acc at each top-n, n=1,...,10\n",
        "                    current_acc = 0\n",
        "                    total_num_of_chars = len(ground_truth)\n",
        "                    for n in range(1, 11):\n",
        "                      for idx, char in enumerate(ground_truth):\n",
        "                        if idx < len(predictions):\n",
        "                          if char in predictions[idx][1][:n]: # getting the top n prediction for the ground truth at place idx\n",
        "                            current_acc += 1\n",
        "                      current_acc /= total_num_of_chars\n",
        "                      avg_acc_at_n[n] += (current_acc - avg_acc_at_n[n]) / total_num_of_tests # adding to average\n",
        "                      current_acc = 0\n",
        "\n",
        "  print(avg_acc_at_n)  # printing the dots\n",
        "\n",
        "  # plotting\n",
        "  x = []\n",
        "  y = []\n",
        "  for key, value in iter(avg_acc_at_n.items()):\n",
        "    x.append(key)\n",
        "    y.append(value)\n",
        "\n",
        "  # naming the x axis\n",
        "  plt.xlabel('Number of guesses')\n",
        "  # naming the y axis\n",
        "  plt.ylabel('Accuracy')\n",
        "  plt.ylim(ymin=0, ymax=1.1)\n",
        "\n",
        "  # leg = plt.legend()\n",
        "  # leg_lines = leg.get_lines()\n",
        "  # plt.setp(leg_lines, linewidth=4)\n",
        "\n",
        "  plt.plot(x, y, color='red', marker='o')\n",
        "  plt.show()\n",
        "\n",
        "\n"
      ],
      "metadata": {
        "id": "8cEtjhWBwnCi"
      },
      "execution_count": null,
      "outputs": []
    },
    {
      "cell_type": "markdown",
      "source": [
        "### Laptop attack"
      ],
      "metadata": {
        "id": "j1EmcE3vaDsz"
      }
    },
    {
      "cell_type": "markdown",
      "source": [
        "For the laptop keyboard, we'll be using the keyboard of the laptop, an Asus rog strix vs502-gl laptop with the microphone that comes with the laptop."
      ],
      "metadata": {
        "id": "XZupv93FKhz_"
      }
    },
    {
      "cell_type": "markdown",
      "source": [
        "#### A-Z train set"
      ],
      "metadata": {
        "id": "bfL5hLVXaLrA"
      }
    },
    {
      "cell_type": "markdown",
      "source": [
        "First, we'll train a model where its train set are recordings of the entire English aplhabet from A-Z and a space at the end 10 times (for a total of 270 samples evenly distributed)"
      ],
      "metadata": {
        "id": "YeJPGN0oGHrY"
      }
    },
    {
      "cell_type": "markdown",
      "source": [
        "##### Train"
      ],
      "metadata": {
        "id": "NDWmRb7EpoUT"
      }
    },
    {
      "cell_type": "code",
      "source": [
        "!python '/content/gdrive/MyDrive/Audio-based-Keylogger-project/Implementations/Skype-Type-python3/generate_model.py' '/content/gdrive/MyDrive/Audio-based-Keylogger-project/Recordings/skype-and-type-recordings/train/laptop-letters' './model_laptop_letters'"
      ],
      "metadata": {
        "id": "1FGAo3PtaDQD"
      },
      "execution_count": null,
      "outputs": []
    },
    {
      "cell_type": "markdown",
      "source": [
        "##### Tests"
      ],
      "metadata": {
        "id": "-t4KsrQxpr8y"
      }
    },
    {
      "cell_type": "markdown",
      "source": [
        "First we'll see how the model predicts some sample tests to get the hang of how the implementation works, and then we'll evaluate the accuracy of the model over all of the available tests."
      ],
      "metadata": {
        "id": "ZyRTBkRlHNTv"
      }
    },
    {
      "cell_type": "markdown",
      "source": [
        "1) should predict the following text: \"fourty_two\".\n",
        "\n"
      ],
      "metadata": {
        "id": "WoMNWaq2qsHE"
      }
    },
    {
      "cell_type": "code",
      "source": [
        "!python '/content/gdrive/MyDrive/Audio-based-Keylogger-project/Implementations/Skype-Type-python3/main.py' --opmode 'from_file' --target '/content/gdrive/MyDrive/Audio-based-Keylogger-project/Recordings/skype-and-type-recordings/test/laptop/fourty_two.wav' --pipeline '/content/model_laptop_letters'"
      ],
      "metadata": {
        "id": "L1lQUExsptu4"
      },
      "execution_count": null,
      "outputs": []
    },
    {
      "cell_type": "markdown",
      "source": [
        "2) should predict the following text: \"hello_there\".\n",
        "\n"
      ],
      "metadata": {
        "id": "UG5mOIO8rot8"
      }
    },
    {
      "cell_type": "code",
      "source": [
        "!python '/content/gdrive/MyDrive/Audio-based-Keylogger-project/Implementations/Skype-Type-python3/main.py' --opmode 'from_file' --target '/content/gdrive/MyDrive/Audio-based-Keylogger-project/Recordings/skype-and-type-recordings/test/laptop/hello_there.wav' --pipeline '/content/model_laptop_letters'"
      ],
      "metadata": {
        "id": "gD6vrvBZroXy"
      },
      "execution_count": null,
      "outputs": []
    },
    {
      "cell_type": "markdown",
      "source": [
        "3) should predict the following text: \"did_you_ever_hear_the_tragedy\".\n"
      ],
      "metadata": {
        "id": "vW2gjwo2EvaZ"
      }
    },
    {
      "cell_type": "code",
      "source": [
        "!python '/content/gdrive/MyDrive/Audio-based-Keylogger-project/Implementations/Skype-Type-python3/main.py' --opmode 'from_file' --target '/content/gdrive/MyDrive/Audio-based-Keylogger-project/Recordings/skype-and-type-recordings/test/laptop/tragedy.wav' --pipeline '/content/model_laptop_letters'"
      ],
      "metadata": {
        "id": "skaJqM95_rPA"
      },
      "execution_count": null,
      "outputs": []
    },
    {
      "cell_type": "markdown",
      "source": [
        "We can see that the model outputs for each keystroke it detects a list of predictions, where the first prediction is one he is most sure about and the last one is the one he is least sure about. It is possible to change the amount of predicitons the model returns for each keystroke, but we'll stick to 10."
      ],
      "metadata": {
        "id": "5UYadhnMqI6M"
      }
    },
    {
      "cell_type": "markdown",
      "source": [
        "Now we'll do 4 different tests for this model:"
      ],
      "metadata": {
        "id": "dcL5dyA_MfPp"
      }
    },
    {
      "cell_type": "markdown",
      "source": [
        "<h3>Same room recordings</h3>"
      ],
      "metadata": {
        "id": "AbHfZfRNMs7R"
      }
    },
    {
      "cell_type": "markdown",
      "source": [
        "1) Model average accuracy as a function of the number of guesses (top-n guesses) on recordings of random letters:"
      ],
      "metadata": {
        "id": "0GvmCc_M_q4p"
      }
    },
    {
      "cell_type": "code",
      "source": [
        "eval_model('/content/model_laptop_letters', '/content/gdrive/MyDrive/Audio-based-Keylogger-project/Recordings/skype-and-type-recordings/test/laptop/random-letters/same-room')"
      ],
      "metadata": {
        "id": "cumPU0e8Ec_q"
      },
      "execution_count": null,
      "outputs": []
    },
    {
      "cell_type": "markdown",
      "source": [
        "2) Model average accuracy as a function of the number of guesses (top-n guesses) on recordings of sentences:"
      ],
      "metadata": {
        "id": "PCdCYgNOM9sV"
      }
    },
    {
      "cell_type": "code",
      "source": [
        "eval_model('/content/model_laptop_letters', '/content/gdrive/MyDrive/Audio-based-Keylogger-project/Recordings/skype-and-type-recordings/test/laptop/sentences/same-room')"
      ],
      "metadata": {
        "id": "LOtH_X_aNgRg"
      },
      "execution_count": null,
      "outputs": []
    },
    {
      "cell_type": "markdown",
      "source": [
        "As we can see, the base model perform quite well on both cases. Even though they start quite low they get pretty high toward the end with 0.25 and 0.42 average accuracy at top-1 guesses, 0.69 and 0.75 average accuracy at top-5 guesses and 0.85 and 0.88 average accuracy at top-10 guesses respectively."
      ],
      "metadata": {
        "id": "4ok82oQnrEiZ"
      }
    },
    {
      "cell_type": "markdown",
      "source": [
        "<h3> Different room recordings </h3>"
      ],
      "metadata": {
        "id": "AJKbAntFNi_t"
      }
    },
    {
      "cell_type": "markdown",
      "source": [
        "3) Model average accuracy as a function of the number of guesses (top-n guesses) on recordings of random letters:"
      ],
      "metadata": {
        "id": "ZLq5Mm_eNslD"
      }
    },
    {
      "cell_type": "code",
      "source": [
        "eval_model('/content/model_laptop_letters', '/content/gdrive/MyDrive/Audio-based-Keylogger-project/Recordings/skype-and-type-recordings/test/laptop/random-letters/different-room')"
      ],
      "metadata": {
        "id": "zebvgq61NtKq"
      },
      "execution_count": null,
      "outputs": []
    },
    {
      "cell_type": "markdown",
      "source": [
        "4) Model average accuracy as a function of the number of guesses (top-n guesses) on recordings of sentences:"
      ],
      "metadata": {
        "id": "by4P4tk3Nt1a"
      }
    },
    {
      "cell_type": "code",
      "source": [
        "eval_model('/content/model_laptop_letters', '/content/gdrive/MyDrive/Audio-based-Keylogger-project/Recordings/skype-and-type-recordings/test/laptop/sentences/different-room')"
      ],
      "metadata": {
        "id": "CGJP2LUfNuRA"
      },
      "execution_count": null,
      "outputs": []
    },
    {
      "cell_type": "markdown",
      "source": [
        "Now that we moved to a different setting for the attack (recorded the keystrokes in a different room than the one the train was recorded in) we see a bit of decline in the average accuracy especially in the random letters test. This can be explained by the fact that the two settings had different acoustics and as a result, the model made more mistakes. Although it might be noted that results are still quite high with 0.34 and 0.39 average accuracy at top-1 guesses, 0.63 and 0.72 average accuracy at top-5 guesses and 0.85 and 0.84 average accuracy at top-10 guesses respectively."
      ],
      "metadata": {
        "id": "fOmM1cZksABC"
      }
    },
    {
      "cell_type": "markdown",
      "source": [
        "#### Realistic train set"
      ],
      "metadata": {
        "id": "NjSjIteaF6iY"
      }
    },
    {
      "cell_type": "markdown",
      "source": [
        "Since in a real world attack, the attacker would most likely train on real world texts, the frequency of each letter in his train set won't be the same. The frequency of the letters in the English alphabet can be see in the following chart:"
      ],
      "metadata": {
        "id": "kaWxvYP5APSl"
      }
    },
    {
      "cell_type": "markdown",
      "source": [
        "Image taken from  https://www3.nd.edu/~busiforc/handouts/cryptography/letterfrequencies.html\n",
        "\n",
        "\n",
        "![letter_frequency.png](data:image/png;base64,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)"
      ],
      "metadata": {
        "id": "FtQNtinfH19P"
      }
    },
    {
      "cell_type": "markdown",
      "source": [
        "For each letter, we can see its precentage usage in the language, and next to it how many times it would appear when we take the least freqent letter, Q, as a base line (1)."
      ],
      "metadata": {
        "id": "O5AqOTxKI7V_"
      }
    },
    {
      "cell_type": "markdown",
      "source": [
        "we'll mormalize it so 0-5 times is equal to 1 sample, 5-10 times is equal to 2 samples and so on up to 45-50 times (E will be included here) is equal to 10 samples. And since the mean word length in English is around 5, for every 5 samples we'll add a sample of space (https://www.wolframalpha.com/input/?i=average+english+word+length)."
      ],
      "metadata": {
        "id": "nVB9HPjlA0Jf"
      }
    },
    {
      "cell_type": "markdown",
      "source": [
        "##### Train"
      ],
      "metadata": {
        "id": "H69GRdPVIrGW"
      }
    },
    {
      "cell_type": "code",
      "source": [
        "!python '/content/gdrive/MyDrive/Audio-based-Keylogger-project/Implementations/Skype-Type-python3/generate_model.py' '/content/gdrive/MyDrive/Audio-based-Keylogger-project/Recordings/skype-and-type-recordings/train/laptop-real-frequency' './model_laptop_real_frequency'"
      ],
      "metadata": {
        "id": "pYEIgf7DF7Wk"
      },
      "execution_count": null,
      "outputs": []
    },
    {
      "cell_type": "markdown",
      "source": [
        "##### Tests"
      ],
      "metadata": {
        "id": "g_tPBT_WIsbU"
      }
    },
    {
      "cell_type": "markdown",
      "source": [
        "We'll do the same 4 tests we did to the previous model:"
      ],
      "metadata": {
        "id": "okCFrBOJZPZh"
      }
    },
    {
      "cell_type": "markdown",
      "source": [
        "<h3>Same room recordings</h3>"
      ],
      "metadata": {
        "id": "grmH0mktZ8fd"
      }
    },
    {
      "cell_type": "markdown",
      "source": [
        "1) Model average accuracy as a function of the number of guesses (top-n guesses) on recordings of random letters:"
      ],
      "metadata": {
        "id": "JhV8ijxQZ_H4"
      }
    },
    {
      "cell_type": "code",
      "source": [
        "eval_model('/content/model_laptop_real_frequency', '/content/gdrive/MyDrive/Audio-based-Keylogger-project/Recordings/skype-and-type-recordings/test/laptop/random-letters/same-room')"
      ],
      "metadata": {
        "id": "06oMf9ciZ_YC"
      },
      "execution_count": null,
      "outputs": []
    },
    {
      "cell_type": "markdown",
      "source": [
        "2) Model average accuracy as a function of the number of guesses (top-n guesses) on recordings of sentences:"
      ],
      "metadata": {
        "id": "Aub1uB4aZ_qH"
      }
    },
    {
      "cell_type": "code",
      "source": [
        "eval_model('/content/model_laptop_real_frequency', '/content/gdrive/MyDrive/Audio-based-Keylogger-project/Recordings/skype-and-type-recordings/test/laptop/sentences/same-room')"
      ],
      "metadata": {
        "id": "IoCmOSZ0Z_7M"
      },
      "execution_count": null,
      "outputs": []
    },
    {
      "cell_type": "markdown",
      "source": [
        "We expected this model to have lower average accuracy than its A-Z model counterpart. But it can be seen the even though that this model has less samples it still had good results and even perfoms better in the case of the recordings of the sentences with 0.6 average accuracy at top-1 guesses, 0.85 average accuracy at top-5 guesses and 0.93 average accuracy at top-10 guesses. Which can be explained by the fact that the distibution of samples in this model's training set represents better written language so it would such cases better.  "
      ],
      "metadata": {
        "id": "jXm4hi8EtZlu"
      }
    },
    {
      "cell_type": "markdown",
      "source": [
        "<h3> Different room recordings </h3>"
      ],
      "metadata": {
        "id": "akMlEbXkaAJX"
      }
    },
    {
      "cell_type": "markdown",
      "source": [
        "3) Model average accuracy as a function of the number of guesses (top-n guesses) on recordings of random letters:"
      ],
      "metadata": {
        "id": "xtlUhYAcaAbN"
      }
    },
    {
      "cell_type": "code",
      "source": [
        "eval_model('/content/model_laptop_real_frequency', '/content/gdrive/MyDrive/Audio-based-Keylogger-project/Recordings/skype-and-type-recordings/test/laptop/random-letters/different-room')"
      ],
      "metadata": {
        "id": "WfZht4TfaCQW"
      },
      "execution_count": null,
      "outputs": []
    },
    {
      "cell_type": "markdown",
      "source": [
        "4) Model average accuracy as a function of the number of guesses (top-n guesses) on recordings of sentences:"
      ],
      "metadata": {
        "id": "2-rMxmREaAvU"
      }
    },
    {
      "cell_type": "code",
      "source": [
        "eval_model('/content/model_laptop_real_frequency', '/content/gdrive/MyDrive/Audio-based-Keylogger-project/Recordings/skype-and-type-recordings/test/laptop/sentences/different-room')"
      ],
      "metadata": {
        "id": "9TaI4RsraA8H"
      },
      "execution_count": null,
      "outputs": []
    },
    {
      "cell_type": "markdown",
      "source": [
        "As opposed to the A-Z model tests we can see much lower resulsts. This might be explained by the fact the change of acoustics we talked about previously affects this kind of model more since it has less samples to rely on. Although we still see good results in the case of the recordings of sentences.\n",
        "The results are as follows: 0.18 and 0.30 average accuracy at top-1 guesses, 0.48 and 0.71 average accuracy at top-5 guesses and 0.63 and 0.86 average accuracy at top-10 guesses respectively.\n"
      ],
      "metadata": {
        "id": "gbmYaupeul7f"
      }
    },
    {
      "cell_type": "markdown",
      "source": [
        "### Desktop attack"
      ],
      "metadata": {
        "id": "f8xj_72DBj8-"
      }
    },
    {
      "cell_type": "markdown",
      "source": [
        "Now we would try the attack on a desktop user. These kind of users will usually use keyboards that are louder than laptop keyboards (such as a mechanical keyboard in our case). And since it's a desktop user, the microphone is probably not a built-in one and usually will be part of a headset which means it won't be at the same location relative to the keyboard at all times.\n",
        "\n",
        "The mechanical keyboard we'll be using is a Keychron Q1 with Gateron Phantom Red switches and the microphone of a Bose QuietComfort 35 II."
      ],
      "metadata": {
        "id": "M23emdfsBoQU"
      }
    },
    {
      "cell_type": "markdown",
      "source": [
        "#### A-Z train set"
      ],
      "metadata": {
        "id": "yLUKQu7E03wI"
      }
    },
    {
      "cell_type": "markdown",
      "source": [
        "Same as the laptop case. we'll train a model where its train set are recordings of the entire English aplhabet from A-Z and a space at the end 10 times (for a total of 270 samples evenly distributed)"
      ],
      "metadata": {
        "id": "7_1RPPTnDiqK"
      }
    },
    {
      "cell_type": "markdown",
      "source": [
        "##### Train"
      ],
      "metadata": {
        "id": "z-pc2jfDJFVp"
      }
    },
    {
      "cell_type": "code",
      "source": [
        "!python '/content/gdrive/MyDrive/Audio-based-Keylogger-project/Implementations/Skype-Type-python3/generate_model.py' '/content/gdrive/MyDrive/Audio-based-Keylogger-project/Recordings/skype-and-type-recordings/train/mechanical-letters' './model_mechanical_letters'"
      ],
      "metadata": {
        "id": "u_IxfNSwDhwH"
      },
      "execution_count": null,
      "outputs": []
    },
    {
      "cell_type": "markdown",
      "source": [
        "##### Tests"
      ],
      "metadata": {
        "id": "jKroomN3JIG8"
      }
    },
    {
      "cell_type": "markdown",
      "source": [
        "First we'll test the model on recordings which were recorded from the same microphone position that the train samples were recorded (\"below\" the keyboard). Then we would test the model on recordings recorded to the left of the keyboard. For each position we would have 2 tests, one for random letters (same random letters as the laptop ones) and one for sentences (same sentences as the laptop ones)"
      ],
      "metadata": {
        "id": "ChdG1IxUXiDz"
      }
    },
    {
      "cell_type": "markdown",
      "source": [
        "<h3>Same microphone position tests</h3>"
      ],
      "metadata": {
        "id": "aHa65bieQ2BU"
      }
    },
    {
      "cell_type": "markdown",
      "source": [
        "1) Model average accuracy as a function of the number of guesses (top-n guesses) on recordings of random letters:"
      ],
      "metadata": {
        "id": "2mVo8GVgQ37j"
      }
    },
    {
      "cell_type": "code",
      "source": [
        "eval_model('/content/model_mechanical_letters', '/content/gdrive/MyDrive/Audio-based-Keylogger-project/Recordings/skype-and-type-recordings/test/mechanical/random-letters/same-position')"
      ],
      "metadata": {
        "id": "jva-BLtLQ3r5"
      },
      "execution_count": null,
      "outputs": []
    },
    {
      "cell_type": "markdown",
      "source": [
        "2) Model average accuracy as a function of the number of guesses (top-n guesses) on recordings of sentences:"
      ],
      "metadata": {
        "id": "kDzhByNnQ4nl"
      }
    },
    {
      "cell_type": "code",
      "source": [
        "eval_model('/content/model_mechanical_letters', '/content/gdrive/MyDrive/Audio-based-Keylogger-project/Recordings/skype-and-type-recordings/test/mechanical/sentences/same-position')"
      ],
      "metadata": {
        "id": "E0HowuEUQ41u"
      },
      "execution_count": null,
      "outputs": []
    },
    {
      "cell_type": "markdown",
      "source": [
        "Just as the A-Z model on the laptop attack we see similar good results.\n",
        "The results are as follows: 0.34 and 0.48 average accuracy at top-1 guesses, 0.75 and 0.77 average accuracy at top-5 guesses and 0.89 and 0.89 average accuracy at top-10 guesses respectively."
      ],
      "metadata": {
        "id": "M5aa_K-uvYyj"
      }
    },
    {
      "cell_type": "markdown",
      "source": [
        "<h3>Different microphone position tests</h3>"
      ],
      "metadata": {
        "id": "sE0xGJNMQ2Um"
      }
    },
    {
      "cell_type": "markdown",
      "source": [
        "3) Model average accuracy as a function of the number of guesses (top-n guesses) on recordings of random letters:"
      ],
      "metadata": {
        "id": "5tC2iYGrQ5nY"
      }
    },
    {
      "cell_type": "code",
      "source": [
        "eval_model('/content/model_mechanical_letters', '/content/gdrive/MyDrive/Audio-based-Keylogger-project/Recordings/skype-and-type-recordings/test/mechanical/random-letters/different-position')"
      ],
      "metadata": {
        "id": "fulHNKV-Q54F"
      },
      "execution_count": null,
      "outputs": []
    },
    {
      "cell_type": "markdown",
      "source": [
        "4) Model average accuracy as a function of the number of guesses (top-n guesses) on recordings of sentences:"
      ],
      "metadata": {
        "id": "eKZV-QxtQ6QK"
      }
    },
    {
      "cell_type": "code",
      "source": [
        "eval_model('/content/model_mechanical_letters', '/content/gdrive/MyDrive/Audio-based-Keylogger-project/Recordings/skype-and-type-recordings/test/mechanical/sentences/different-position')"
      ],
      "metadata": {
        "id": "L1B3JmEfQ6ge"
      },
      "execution_count": null,
      "outputs": []
    },
    {
      "cell_type": "markdown",
      "source": [
        "Interstingly, we can see that the change of the microphone position relative to the keyboard substentially affects the predictability of the model (As opposed to moving to a different room in the laptop case). This means that one of the most important aspects of the attack is that the microphone would need to be at around the same position and distance from the keyboard as in the training.\n",
        "The results are as follows: 0.07 and 0.21 average accuracy at top-1 guesses, 0.33 and 0.46 average accuracy at top-5 guesses and 0.55 and 0.68 average accuracy at top-10 guesses respectively."
      ],
      "metadata": {
        "id": "m0xaddWkvwCl"
      }
    },
    {
      "cell_type": "markdown",
      "source": [
        "#### Realistic train set"
      ],
      "metadata": {
        "id": "wLZnGWztCADc"
      }
    },
    {
      "cell_type": "markdown",
      "source": [
        "Same as the laptop case. We'll train a model on the estimated frequency of letters an attacker will sample in a real attack."
      ],
      "metadata": {
        "id": "0UICtaD8JJmV"
      }
    },
    {
      "cell_type": "markdown",
      "source": [
        "##### Train"
      ],
      "metadata": {
        "id": "liO-JBHQJJ0d"
      }
    },
    {
      "cell_type": "code",
      "source": [
        "!python '/content/gdrive/MyDrive/Audio-based-Keylogger-project/Implementations/Skype-Type-python3/generate_model.py' '/content/gdrive/MyDrive/Audio-based-Keylogger-project/Recordings/skype-and-type-recordings/train/mechanical-real-frequency' './model_mechanical_real_frequency'"
      ],
      "metadata": {
        "id": "p5cGRnVWDwdG"
      },
      "execution_count": null,
      "outputs": []
    },
    {
      "cell_type": "markdown",
      "source": [
        "##### Tests"
      ],
      "metadata": {
        "id": "qNmD-7AIJLqZ"
      }
    },
    {
      "cell_type": "markdown",
      "source": [
        "We'll conduct the same 4 tests we conducted on the previous model for comparison."
      ],
      "metadata": {
        "id": "jow8SEb7YeY3"
      }
    },
    {
      "cell_type": "markdown",
      "source": [
        "<h3>Same microphone position tests</h3>"
      ],
      "metadata": {
        "id": "a6TXzgkYQ7Wu"
      }
    },
    {
      "cell_type": "markdown",
      "source": [
        "1) Model average accuracy as a function of the number of guesses (top-n guesses) on recordings of random letters:"
      ],
      "metadata": {
        "id": "KVOMdHehQ7lg"
      }
    },
    {
      "cell_type": "code",
      "source": [
        "eval_model('/content/model_mechanical_real_frequency', '/content/gdrive/MyDrive/Audio-based-Keylogger-project/Recordings/skype-and-type-recordings/test/mechanical/random-letters/same-position')"
      ],
      "metadata": {
        "id": "1MT84VNcQ7zk"
      },
      "execution_count": null,
      "outputs": []
    },
    {
      "cell_type": "markdown",
      "source": [
        "2) Model average accuracy as a function of the number of guesses (top-n guesses) on recordings of sentences:"
      ],
      "metadata": {
        "id": "aqO4o96MQ8Gv"
      }
    },
    {
      "cell_type": "code",
      "source": [
        "eval_model('/content/model_mechanical_real_frequency', '/content/gdrive/MyDrive/Audio-based-Keylogger-project/Recordings/skype-and-type-recordings/test/mechanical/sentences/same-position')"
      ],
      "metadata": {
        "id": "W2SxL65-Q8YQ"
      },
      "execution_count": null,
      "outputs": []
    },
    {
      "cell_type": "markdown",
      "source": [
        "We can see that in this case the prediction of the random strings of letter was harder for the model and the prediciton of sentences was better but slightly worse than its A-Z counterpart model. This can be explained by the lack of samples and perhaps it's harder to predict on a mechanical keyboard or the quality of the recordings.\n",
        "\n",
        "The results are as follows: 0.30 and 0.53 average accuracy at top-1 guesses, 0.52 and 0.75 average accuracy at top-5 guesses and 0.69 and 0.86 average accuracy at top-10 guesses respectively."
      ],
      "metadata": {
        "id": "_bj0vUbQw0_f"
      }
    },
    {
      "cell_type": "markdown",
      "source": [
        "<h3>Different microphone position tests</h3>"
      ],
      "metadata": {
        "id": "OwXg8iXpQ94W"
      }
    },
    {
      "cell_type": "markdown",
      "source": [
        "3) Model average accuracy as a function of the number of guesses (top-n guesses) on recordings of random letters:"
      ],
      "metadata": {
        "id": "g4mZNIfYQ8se"
      }
    },
    {
      "cell_type": "code",
      "source": [
        "eval_model('/content/model_mechanical_real_frequency', '/content/gdrive/MyDrive/Audio-based-Keylogger-project/Recordings/skype-and-type-recordings/test/mechanical/random-letters/different-position')"
      ],
      "metadata": {
        "id": "fQz3gC7XQ9Hc"
      },
      "execution_count": null,
      "outputs": []
    },
    {
      "cell_type": "markdown",
      "source": [
        "4) Model average accuracy as a function of the number of guesses (top-n guesses) on recordings of sentences:"
      ],
      "metadata": {
        "id": "un56U8rfQ-Qe"
      }
    },
    {
      "cell_type": "code",
      "source": [
        "eval_model('/content/model_mechanical_real_frequency', '/content/gdrive/MyDrive/Audio-based-Keylogger-project/Recordings/skype-and-type-recordings/test/mechanical/sentences/different-position')"
      ],
      "metadata": {
        "id": "kAZjngVCQ-e0"
      },
      "execution_count": null,
      "outputs": []
    },
    {
      "cell_type": "markdown",
      "source": [
        "Just like its A-Z counterpart model, this model also perform worse when the position and distance of the microphone changed relativeto the keyboard and can be explained for the same reasons.\n",
        "\n",
        "The results are as follows: 0.03 and 0.28 average accuracy at top-1 guesses, 0.29 and 0.59 average accuracy at top-5 guesses and 0.2946 and 0.80 average accuracy at top-10 guesses respectively."
      ],
      "metadata": {
        "id": "ADIHaTGixyAJ"
      }
    },
    {
      "cell_type": "markdown",
      "source": [
        "### Text reconstruction attack"
      ],
      "metadata": {
        "id": "YMGI4OIIE9rH"
      }
    },
    {
      "cell_type": "markdown",
      "source": [
        "Now we would implmenet an attack that would try to reconstruct the sentences the victim wrote from the guesses of a model."
      ],
      "metadata": {
        "id": "bUrGoLwDFH6U"
      }
    },
    {
      "cell_type": "markdown",
      "source": [
        "#### The attack"
      ],
      "metadata": {
        "id": "ba9gkiORGUIz"
      }
    },
    {
      "cell_type": "markdown",
      "source": [
        "First, we would implement the code for the attack. What we'll do is pass all the different combinations of the top-N guesses and pass them through a spell checker and return the results"
      ],
      "metadata": {
        "id": "G8ph7NnqGV9n"
      }
    },
    {
      "cell_type": "markdown",
      "source": [
        "The following function takes: path to a trained model, path to a recording, number of guesses of each keystroke to take (top-N guesses), weather to create a dict or not, path to a text file from which to create a dict.\n",
        "\n",
        "The function returns all the combinations of corrected sentences based on the output of the acuostic-keylogger"
      ],
      "metadata": {
        "id": "xwmQL1e1ncq7"
      }
    },
    {
      "cell_type": "code",
      "source": [
        "def reconstruct_text(model_path, recording_path, num_of_guesses, create_dict=False, dict_text_path=None):\n",
        "  # predicting\n",
        "  print('predicting keystrokes')\n",
        "  os.system(f\"python '/content/gdrive/MyDrive/Audio-based-Keylogger-project/Implementations/Skype-Type-python3/main.py' --opmode 'from_file' --target {recording_path} --pipeline {model_path}\")\n",
        "\n",
        "  with open('./current_output.pkl', 'rb') as f:\n",
        "    predictions = pickle.load(f)  # getting the predictions\n",
        "\n",
        "  print('got the predictions')\n",
        "  predictions_combinations = []\n",
        "  for pred in predictions:\n",
        "    predictions_combinations.append(pred[1][:num_of_guesses])\n",
        "\n",
        "  # making all the combinations of the predictions and arranging the letters into lists of words\n",
        "  # word is a sequence of letters up to an underscore which is the representation of a space in the model\n",
        "  predictions_combinations = list(itertools.product(*predictions_combinations)) # getting all of the combinations\n",
        "  predictions_combinations = list(map(list, predictions_combinations)) # making it a list of lists\n",
        "  predictions_combinations = list(map(lambda x: ''.join(x).split('_'), predictions_combinations))\n",
        "  print(f'total number of conbinations {len(predictions_combinations)}')\n",
        "\n",
        "\n",
        "  # setting up the spell checker\n",
        "  sym_spell = SymSpell(max_dictionary_edit_distance=2, prefix_length=7)\n",
        "\n",
        "  # setting a dictionary to use\n",
        "  if create_dict:\n",
        "     sym_spell.create_dictionary(dict_text_path) # can use a user-tailored one\n",
        "  else:\n",
        "    dictionary_path = pkg_resources.resource_filename(\n",
        "      \"symspellpy\", 'frequency_dictionary_en_82_765.txt' # or a pre-made one\n",
        "    )\n",
        "    sym_spell.load_dictionary(dictionary_path, term_index=0, count_index=1)\n",
        "\n",
        "\n",
        "  # a function which goes through all the words in a sentence and corrects them according to the set up spell checker\n",
        "  def correct_word(idx, words):\n",
        "    if idx % 10000 == 0:\n",
        "        print(f'gone through {idx} combinations')\n",
        "\n",
        "    corrections = []\n",
        "    for word in words:\n",
        "      suggestions = sym_spell.lookup(word, Verbosity.CLOSEST, max_edit_distance=2)\n",
        "\n",
        "      if len(suggestions) != 0:\n",
        "        corrections.append(suggestions[0])\n",
        "\n",
        "    return corrections\n",
        "\n",
        "  # going over all the sentences\n",
        "  corrected_sentences = list(map(lambda enu: correct_word(enu[0], enu[1]), enumerate(predictions_combinations)))\n",
        "\n",
        "  print('finished')\n",
        "\n",
        "  return corrected_sentences"
      ],
      "metadata": {
        "id": "Qv11zMi4G5J2"
      },
      "execution_count": null,
      "outputs": []
    },
    {
      "cell_type": "markdown",
      "source": [
        "To test whether the function reconstruct_text works we'll make a function which tries to find the ground truth among the all the reconstructed combinations."
      ],
      "metadata": {
        "id": "AlnzhyE3pAHH"
      }
    },
    {
      "cell_type": "markdown",
      "source": [
        "The following function takes as arguments: the reconstructed predictions, the ground truth.\n",
        "\n",
        "The function returns whether ground_truth is present amonth the reconstructions"
      ],
      "metadata": {
        "id": "h9c_r6P6ogLl"
      }
    },
    {
      "cell_type": "code",
      "source": [
        "def is_ground_truth_present(reconstructions, ground_truth):\n",
        "  for rec in reconstructions:\n",
        "    rec_strings = []\n",
        "    for sugg in rec:\n",
        "      rec_strings.append(sugg.term)\n",
        "\n",
        "    if ' '.join(rec_strings) == ground_truth:\n",
        "      return True\n",
        "\n",
        "  return False"
      ],
      "metadata": {
        "id": "UBZY99L6ZUWY"
      },
      "execution_count": null,
      "outputs": []
    },
    {
      "cell_type": "markdown",
      "source": [
        "We'll try the attack one two sample recordings. The model we'll be using is the A-Z model of the laptop. For each recording we'll try to find the optimal number of guesses required to reconstruct the ground truth then we'll print what was reconstructed:"
      ],
      "metadata": {
        "id": "eCPV4ySLyWlN"
      }
    },
    {
      "cell_type": "markdown",
      "source": [
        "1) Recording of the text \"forty two\" (although in the recording it is spelled with a typoe as \"fourty two\"):"
      ],
      "metadata": {
        "id": "dXma-5NxybRd"
      }
    },
    {
      "cell_type": "code",
      "source": [
        "for i in range(1, 11): # 1 to 10\n",
        "  print(f'trying at {i} number of guesses')\n",
        "  forty_two_reconstructions = reconstruct_text('/content/model_laptop_letters',\n",
        "                  '/content/gdrive/MyDrive/Audio-based-Keylogger-project/Recordings/skype-and-type-recordings/test/laptop/fourty_two.wav',\n",
        "                  i)\n",
        "\n",
        "  if is_ground_truth_present(forty_two_reconstructions, 'forty two'):\n",
        "    print(f'ground truth found at {i} number of guesses')\n",
        "    break"
      ],
      "metadata": {
        "id": "_D_bx66-IW0o"
      },
      "execution_count": null,
      "outputs": []
    },
    {
      "cell_type": "markdown",
      "source": [
        "It can be seen the it found the ground truth of \"forty two\" even though the user wrote it with a typo in the recording after at 3 number of guessses. Now let's view the various reconstructions for the recording:"
      ],
      "metadata": {
        "id": "giWDRbnIzmCW"
      }
    },
    {
      "cell_type": "code",
      "source": [
        "for rec in forty_two_reconstructions:\n",
        "  for sugg in rec:\n",
        "    print(sugg.term, end=' ')\n",
        "  if len(rec) != 0:\n",
        "    print()"
      ],
      "metadata": {
        "id": "c2ofgFtsz1Gw"
      },
      "execution_count": null,
      "outputs": []
    },
    {
      "cell_type": "markdown",
      "source": [
        "1) Recording of the text \"hello there\":"
      ],
      "metadata": {
        "id": "Df-jUw7i1jLz"
      }
    },
    {
      "cell_type": "code",
      "source": [
        "for i in range(1, 11): # 1 to 10\n",
        "  print(f'trying at {i} number of guesses')\n",
        "  hello_there_reconstructions = reconstruct_text('/content/model_laptop_letters',\n",
        "                  '/content/gdrive/MyDrive/Audio-based-Keylogger-project/Recordings/skype-and-type-recordings/test/laptop/hello_there.wav',\n",
        "                  i)\n",
        "\n",
        "  if is_ground_truth_present(hello_there_reconstructions, 'hello there'):\n",
        "    print(f'ground truth found at {i} number of guesses')\n",
        "    break"
      ],
      "metadata": {
        "id": "X6qDVvy6Wxj_"
      },
      "execution_count": null,
      "outputs": []
    },
    {
      "cell_type": "markdown",
      "source": [
        "We found the ground truth \"hello there\" at only 2 number of guesses which means it was easier for the model to predict this sentence than \"forty two\" which took was found at 3 number of guesses. Let's view the reconstructed texts:"
      ],
      "metadata": {
        "id": "av6IF-2w1rmH"
      }
    },
    {
      "cell_type": "code",
      "source": [
        "for rec in hello_there_reconstructions:\n",
        "  for sugg in rec:\n",
        "    print(sugg.term, end=' ')\n",
        "  if len(rec) != 0:\n",
        "    print()"
      ],
      "metadata": {
        "id": "fU-RCB-xtmJp"
      },
      "execution_count": null,
      "outputs": []
    },
    {
      "cell_type": "markdown",
      "source": [
        "For both of the attacks we can see that the groudn truth was found and at a relatively low number of guesses. When we print all of the reconstructed texts of all the combinations of words the model predicted we can see we get a lot of random combination of words. This can be explain by the fact that (1) there are a lot of combinations of random letters and the spell checker tried to find the closet and most frequest one and (2) the spell checker doesn't try to make sense of the combinations, only to correct a single word. The results can be improved by using a better spell checker which tries to fix longer sequence of words, or use a much more complicated DNN NLP model to correct the predictions."
      ],
      "metadata": {
        "id": "QIuIFC2Q2m9w"
      }
    }
  ]
}
